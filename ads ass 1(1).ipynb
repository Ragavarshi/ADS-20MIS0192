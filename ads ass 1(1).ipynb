{
 "cells": [
  {
   "cell_type": "markdown",
   "id": "4188ccf3",
   "metadata": {},
   "source": [
    "## 1.\tAssign your Name to variable name and Age to variable age. Make a Python program that prints your name and age. "
   ]
  },
  {
   "cell_type": "code",
   "execution_count": 16,
   "id": "fd9dcc62",
   "metadata": {
    "scrolled": true
   },
   "outputs": [
    {
     "name": "stdout",
     "output_type": "stream",
     "text": [
      "Hi my name is Ragavarshini S\n",
      "My age is 20\n"
     ]
    }
   ],
   "source": [
    "Name = \"Ragavarshini S\"\n",
    "Age = \"20\"  \n",
    "\n",
    "print(\"Hi my name is\", Name)\n",
    "print(\"My age is\", Age)"
   ]
  },
  {
   "cell_type": "markdown",
   "id": "702cb4b3",
   "metadata": {},
   "source": [
    "## 2.\tX=\"Datascience is used to extract meaningful insights.\" Split the string."
   ]
  },
  {
   "cell_type": "code",
   "execution_count": 4,
   "id": "d844b108",
   "metadata": {},
   "outputs": [
    {
     "name": "stdout",
     "output_type": "stream",
     "text": [
      "['Datascience', 'is', 'used', 'to', 'extract', 'meaningful', 'insights.']\n"
     ]
    }
   ],
   "source": [
    "X = \"Datascience is used to extract meaningful insights.\"\n",
    "split_words = X.split()\n",
    "\n",
    "print(split_words)"
   ]
  },
  {
   "cell_type": "markdown",
   "id": "4f01e929",
   "metadata": {},
   "source": [
    "## 3.\tMake a function that gives multiplication of two numbers "
   ]
  },
  {
   "cell_type": "code",
   "execution_count": 5,
   "id": "81c9691e",
   "metadata": {},
   "outputs": [],
   "source": [
    "def multiply_numbers(a, b):\n",
    "    result = a * b\n",
    "    return result"
   ]
  },
  {
   "cell_type": "code",
   "execution_count": 6,
   "id": "de4c6bb9",
   "metadata": {},
   "outputs": [
    {
     "name": "stdout",
     "output_type": "stream",
     "text": [
      "The multiplication result is: 200\n"
     ]
    }
   ],
   "source": [
    "n1 = 10\n",
    "n2 = 20\n",
    "\n",
    "multiplication_result = multiply_numbers(n1, n2)\n",
    "print(\"The multiplication result is:\", multiplication_result)"
   ]
  },
  {
   "cell_type": "markdown",
   "id": "699116b3",
   "metadata": {},
   "source": [
    "## 4.\tCreate a Dictionary of 5 States with their capitals. also print the keys and values. "
   ]
  },
  {
   "cell_type": "code",
   "execution_count": 7,
   "id": "281a5c93",
   "metadata": {},
   "outputs": [
    {
     "name": "stdout",
     "output_type": "stream",
     "text": [
      "Country Names:\n",
      "India\n",
      "United States\n",
      "United Kingdom\n",
      "Germany\n",
      "Japan\n",
      "\n",
      "Capital Cities:\n",
      "New Delhi\n",
      "Washington, D.C.\n",
      "London\n",
      "Berlin\n",
      "Tokyo\n",
      "\n",
      "Country-Capital Pairs:\n",
      "India - New Delhi\n",
      "United States - Washington, D.C.\n",
      "United Kingdom - London\n",
      "Germany - Berlin\n",
      "Japan - Tokyo\n"
     ]
    }
   ],
   "source": [
    "countries_capitals = {\n",
    "    \"India\": \"New Delhi\",\n",
    "    \"United States\": \"Washington, D.C.\",\n",
    "    \"United Kingdom\": \"London\",\n",
    "    \"Germany\": \"Berlin\",\n",
    "    \"Japan\": \"Tokyo\"\n",
    "}\n",
    "\n",
    "# Print the keys\n",
    "print(\"Country Names:\")\n",
    "for country in countries_capitals:\n",
    "    print(country)\n",
    "\n",
    "# Print the values\n",
    "print(\"\\nCapital Cities:\")\n",
    "for capital in countries_capitals.values():\n",
    "    print(capital)\n",
    "\n",
    "# Print both keys and values\n",
    "print(\"\\nCountry-Capital Pairs:\")\n",
    "for country, capital in countries_capitals.items():\n",
    "    print(country, \"-\", capital)\n"
   ]
  },
  {
   "cell_type": "markdown",
   "id": "b86e67da",
   "metadata": {},
   "source": [
    "## 5.\tCreate an identity matrix of dimension 4 by 4 "
   ]
  },
  {
   "cell_type": "code",
   "execution_count": 8,
   "id": "5a85b0a4",
   "metadata": {},
   "outputs": [
    {
     "name": "stdout",
     "output_type": "stream",
     "text": [
      "[1, 0, 0, 0]\n",
      "[0, 1, 0, 0]\n",
      "[0, 0, 1, 0]\n",
      "[0, 0, 0, 1]\n"
     ]
    }
   ],
   "source": [
    "def create_identity_matrix(n):\n",
    "    matrix = [[0] * n for _ in range(n)]  # Initialize the matrix with zeros\n",
    "\n",
    "    for i in range(n):\n",
    "        matrix[i][i] = 1  # Set the diagonal elements to 1\n",
    "\n",
    "    return matrix\n",
    "\n",
    "# Create a 4x4 identity matrix\n",
    "identity_matrix = create_identity_matrix(4)\n",
    "\n",
    "# Print the matrix\n",
    "for row in identity_matrix:\n",
    "    print(row)\n"
   ]
  },
  {
   "cell_type": "markdown",
   "id": "359cf00a",
   "metadata": {},
   "source": [
    "## 7.\tCreate a 3x3 matrix with values ranging from 1 to 9 "
   ]
  },
  {
   "cell_type": "code",
   "execution_count": 10,
   "id": "c3d7d0ac",
   "metadata": {},
   "outputs": [
    {
     "name": "stdout",
     "output_type": "stream",
     "text": [
      "[1, 2, 3]\n",
      "[4, 5, 6]\n",
      "[7, 8, 9]\n"
     ]
    }
   ],
   "source": [
    "def create_matrix():\n",
    "    matrix = [[0] * 3 for _ in range(3)]  # Initialize a 3x3 matrix with zeros\n",
    "\n",
    "    value = 1\n",
    "    for i in range(3):\n",
    "        for j in range(3):\n",
    "            matrix[i][j] = value\n",
    "            value += 1\n",
    "\n",
    "    return matrix\n",
    "\n",
    "# Create a 3x3 matrix with values ranging from 1 to 9\n",
    "matrix = create_matrix()\n",
    "\n",
    "# Print the matrix\n",
    "for row in matrix:\n",
    "    print(row)\n"
   ]
  },
  {
   "cell_type": "markdown",
   "id": "e65d46f5",
   "metadata": {},
   "source": [
    "## 8.\tCreate 2 similar dimensional array and perform sum on them. "
   ]
  },
  {
   "cell_type": "code",
   "execution_count": 11,
   "id": "291fdf44",
   "metadata": {},
   "outputs": [
    {
     "name": "stdout",
     "output_type": "stream",
     "text": [
      "[10, 10, 10]\n",
      "[10, 10, 10]\n",
      "[10, 10, 10]\n"
     ]
    }
   ],
   "source": [
    "def sum_arrays(array1, array2):\n",
    "    rows = len(array1)\n",
    "    cols = len(array1[0])\n",
    "\n",
    "    result = [[0] * cols for _ in range(rows)]\n",
    "\n",
    "    for i in range(rows):\n",
    "        for j in range(cols):\n",
    "            result[i][j] = array1[i][j] + array2[i][j]\n",
    "\n",
    "    return result\n",
    "\n",
    "# Create two similar dimensional arrays\n",
    "array1 = [[1, 2, 3], [4, 5, 6], [7, 8, 9]]\n",
    "array2 = [[9, 8, 7], [6, 5, 4], [3, 2, 1]]\n",
    "\n",
    "# Perform the sum operation\n",
    "sum_result = sum_arrays(array1, array2)\n",
    "\n",
    "# Print the result\n",
    "for row in sum_result:\n",
    "    print(row)\n"
   ]
  },
  {
   "cell_type": "markdown",
   "id": "6cf3170c",
   "metadata": {},
   "source": [
    "## 9.\tGenerate the series of dates from 1st Feb, 2023 to 1st March, 2023 (both inclusive) "
   ]
  },
  {
   "cell_type": "code",
   "execution_count": 12,
   "id": "05e17af4",
   "metadata": {},
   "outputs": [
    {
     "name": "stdout",
     "output_type": "stream",
     "text": [
      "2023-02-01\n",
      "2023-02-02\n",
      "2023-02-03\n",
      "2023-02-04\n",
      "2023-02-05\n",
      "2023-02-06\n",
      "2023-02-07\n",
      "2023-02-08\n",
      "2023-02-09\n",
      "2023-02-10\n",
      "2023-02-11\n",
      "2023-02-12\n",
      "2023-02-13\n",
      "2023-02-14\n",
      "2023-02-15\n",
      "2023-02-16\n",
      "2023-02-17\n",
      "2023-02-18\n",
      "2023-02-19\n",
      "2023-02-20\n",
      "2023-02-21\n",
      "2023-02-22\n",
      "2023-02-23\n",
      "2023-02-24\n",
      "2023-02-25\n",
      "2023-02-26\n",
      "2023-02-27\n",
      "2023-02-28\n",
      "2023-03-01\n"
     ]
    }
   ],
   "source": [
    "from datetime import datetime, timedelta\n",
    "\n",
    "start_date = datetime(2023, 2, 1)\n",
    "end_date = datetime(2023, 3, 1)\n",
    "\n",
    "current_date = start_date\n",
    "while current_date <= end_date:\n",
    "    print(current_date.strftime(\"%Y-%m-%d\"))\n",
    "    current_date += timedelta(days=1)\n"
   ]
  },
  {
   "cell_type": "markdown",
   "id": "83a5ee5d",
   "metadata": {},
   "source": [
    "## 10.\tGiven a dictionary, convert it into corresponding dataframe and display it dictionary = {'Brand': ['Maruti', 'Renault', 'Hyndai'], 'Sales' : [250, 200, 240]} "
   ]
  },
  {
   "cell_type": "code",
   "execution_count": 13,
   "id": "d822a52e",
   "metadata": {},
   "outputs": [
    {
     "name": "stdout",
     "output_type": "stream",
     "text": [
      "     Brand  Sales\n",
      "0   Maruti    250\n",
      "1  Renault    200\n",
      "2  Hyundai    240\n"
     ]
    }
   ],
   "source": [
    "import pandas as pd\n",
    "\n",
    "dictionary = {'Brand': ['Maruti', 'Renault', 'Hyundai'], 'Sales': [250, 200, 240]}\n",
    "\n",
    "df = pd.DataFrame(dictionary)\n",
    "\n",
    "print(df)\n"
   ]
  },
  {
   "cell_type": "markdown",
   "id": "5794375e",
   "metadata": {},
   "source": [
    "## 6. Create an identity matrix of dimension 4 by 4"
   ]
  },
  {
   "cell_type": "code",
   "execution_count": 14,
   "id": "cdc58a1c",
   "metadata": {},
   "outputs": [
    {
     "name": "stdout",
     "output_type": "stream",
     "text": [
      "[[1. 0. 0. 0.]\n",
      " [0. 1. 0. 0.]\n",
      " [0. 0. 1. 0.]\n",
      " [0. 0. 0. 1.]]\n"
     ]
    }
   ],
   "source": [
    "import numpy as np\n",
    "\n",
    "identity_matrix = np.eye(4)\n",
    "print(identity_matrix)\n"
   ]
  },
  {
   "cell_type": "code",
   "execution_count": null,
   "id": "b7421f42",
   "metadata": {},
   "outputs": [],
   "source": []
  }
 ],
 "metadata": {
  "kernelspec": {
   "display_name": "Python 3 (ipykernel)",
   "language": "python",
   "name": "python3"
  },
  "language_info": {
   "codemirror_mode": {
    "name": "ipython",
    "version": 3
   },
   "file_extension": ".py",
   "mimetype": "text/x-python",
   "name": "python",
   "nbconvert_exporter": "python",
   "pygments_lexer": "ipython3",
   "version": "3.9.13"
  }
 },
 "nbformat": 4,
 "nbformat_minor": 5
}
